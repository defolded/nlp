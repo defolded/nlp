{
 "cells": [
  {
   "cell_type": "code",
   "execution_count": 1,
   "id": "80dc970b-cf31-4634-96b7-a88da30ac93e",
   "metadata": {},
   "outputs": [
    {
     "name": "stdout",
     "output_type": "stream",
     "text": [
      "Collecting environment information...\n",
      "PyTorch version: 2.1.1\n",
      "Is debug build: False\n",
      "CUDA used to build PyTorch: 12.1\n",
      "ROCM used to build PyTorch: N/A\n",
      "\n",
      "OS: Microsoft Windows 11 Pro\n",
      "GCC version: Could not collect\n",
      "Clang version: Could not collect\n",
      "CMake version: Could not collect\n",
      "Libc version: N/A\n",
      "\n",
      "Python version: 3.9.18 (main, Sep 11 2023, 14:09:26) [MSC v.1916 64 bit (AMD64)] (64-bit runtime)\n",
      "Python platform: Windows-10-10.0.22631-SP0\n",
      "Is CUDA available: True\n",
      "CUDA runtime version: Could not collect\n",
      "CUDA_MODULE_LOADING set to: LAZY\n",
      "GPU models and configuration: GPU 0: NVIDIA GeForce RTX 4090\n",
      "Nvidia driver version: 546.29\n",
      "cuDNN version: Could not collect\n",
      "HIP runtime version: N/A\n",
      "MIOpen runtime version: N/A\n",
      "Is XNNPACK available: True\n",
      "\n",
      "CPU:\n",
      "Architecture=9\n",
      "\n",
      "\n",
      "CurrentClockSpeed=4201\n",
      "\n",
      "\n",
      "DeviceID=CPU0\n",
      "\n",
      "\n",
      "Family=107\n",
      "\n",
      "\n",
      "L2CacheSize=16384\n",
      "\n",
      "\n",
      "L2CacheSpeed=\n",
      "\n",
      "\n",
      "Manufacturer=AuthenticAMD\n",
      "\n",
      "\n",
      "MaxClockSpeed=4201\n",
      "\n",
      "\n",
      "Name=AMD Ryzen 9 7950X3D 16-Core Processor          \n",
      "\n",
      "\n",
      "ProcessorType=3\n",
      "\n",
      "\n",
      "Revision=24834\n",
      "\n",
      "Versions of relevant libraries:\n",
      "[pip3] numpy==1.26.2\n",
      "[pip3] torch==2.1.1\n",
      "[pip3] torchaudio==2.1.1\n",
      "[pip3] torchvision==0.16.1\n",
      "[conda] blas                      1.0                         mkl  \n",
      "[conda] cudatoolkit               11.8.0              h09e9e62_12    conda-forge\n",
      "[conda] libblas                   3.9.0              20_win64_mkl    conda-forge\n",
      "[conda] libcblas                  3.9.0              20_win64_mkl    conda-forge\n",
      "[conda] liblapack                 3.9.0              20_win64_mkl    conda-forge\n",
      "[conda] mkl                       2023.2.0         h6a75c08_50497    conda-forge\n",
      "[conda] numpy                     1.26.2           py39hddb5d58_0    conda-forge\n",
      "[conda] pytorch                   2.1.1           py3.9_cuda12.1_cudnn8_0    pytorch\n",
      "[conda] pytorch-cuda              12.1                 hde6ce7c_5    pytorch\n",
      "[conda] pytorch-mutex             1.0                        cuda    pytorch\n",
      "[conda] torch                     2.1.1                    pypi_0    pypi\n",
      "[conda] torchaudio                2.1.1                    pypi_0    pypi\n",
      "[conda] torchvision               0.16.1                   pypi_0    pypi\n"
     ]
    }
   ],
   "source": [
    "!python -m torch.utils.collect_env"
   ]
  },
  {
   "cell_type": "code",
   "execution_count": 28,
   "id": "c71e7fb7-aacf-4b6e-8494-64a668add5bc",
   "metadata": {},
   "outputs": [
    {
     "name": "stdout",
     "output_type": "stream",
     "text": [
      "                                             example        label\n",
      "0  Seller: Hello Buyer: Wow love the Couch. SO lo...    furniture\n",
      "1  Seller: I am selling this for $28500. Buyer: I...          car\n",
      "2  Buyer: I'd like to negotiate a lower price for...      housing\n",
      "3  Seller: Hi!  Are you interested in my headphon...  electronics\n",
      "4  Seller: Hi. Were you interested in the mirror?...    furniture\n",
      "                                             example      label\n",
      "0  Seller: Hi are you interested in buying my Pin...  furniture\n",
      "1  Buyer: Hello I am interested in your property ...    housing\n",
      "2  Buyer: Hello . How long have you owned the dre...  furniture\n",
      "3  Buyer: I am very interested place you have for...    housing\n",
      "4  Buyer: Hey, nice car you have here, how long h...        car\n"
     ]
    }
   ],
   "source": [
    "import pandas as pd\n",
    "\n",
    "train_data = pd.read_csv('seed.csv')\n",
    "test_data = pd.read_csv('test.csv')\n",
    "\n",
    "# Check the first few rows of the data\n",
    "print(train_data.head())\n",
    "print(test_data.head())"
   ]
  },
  {
   "cell_type": "code",
   "execution_count": 29,
   "id": "ae2cb622-ff62-4de1-9c60-57fe4f625da7",
   "metadata": {},
   "outputs": [],
   "source": [
    "from transformers import BertTokenizer\n",
    "\n",
    "tokenizer = BertTokenizer.from_pretrained('bert-base-uncased')\n",
    "\n",
    "def tokenize_data(data):\n",
    "    return tokenizer(data['example'].tolist(), padding=True, truncation=True, return_tensors='pt')\n",
    "\n",
    "train_inputs = tokenize_data(train_data)\n",
    "test_inputs = tokenize_data(test_data)"
   ]
  },
  {
   "cell_type": "code",
   "execution_count": 30,
   "id": "94183307-771e-4c15-a2ee-ac4b13ad083d",
   "metadata": {},
   "outputs": [],
   "source": [
    "from sklearn.preprocessing import LabelEncoder\n",
    "\n",
    "label_encoder = LabelEncoder()\n",
    "\n",
    "train_labels = label_encoder.fit_transform(train_data['label'])\n",
    "test_labels = label_encoder.transform(test_data['label'])"
   ]
  },
  {
   "cell_type": "code",
   "execution_count": 31,
   "id": "05db66b1-b263-462d-9022-de032348b510",
   "metadata": {},
   "outputs": [
    {
     "name": "stderr",
     "output_type": "stream",
     "text": [
      "Some weights of BertForSequenceClassification were not initialized from the model checkpoint at bert-base-uncased and are newly initialized: ['classifier.weight', 'classifier.bias']\n",
      "You should probably TRAIN this model on a down-stream task to be able to use it for predictions and inference.\n"
     ]
    },
    {
     "data": {
      "text/plain": [
       "BertForSequenceClassification(\n",
       "  (bert): BertModel(\n",
       "    (embeddings): BertEmbeddings(\n",
       "      (word_embeddings): Embedding(30522, 768, padding_idx=0)\n",
       "      (position_embeddings): Embedding(512, 768)\n",
       "      (token_type_embeddings): Embedding(2, 768)\n",
       "      (LayerNorm): LayerNorm((768,), eps=1e-12, elementwise_affine=True)\n",
       "      (dropout): Dropout(p=0.1, inplace=False)\n",
       "    )\n",
       "    (encoder): BertEncoder(\n",
       "      (layer): ModuleList(\n",
       "        (0-11): 12 x BertLayer(\n",
       "          (attention): BertAttention(\n",
       "            (self): BertSelfAttention(\n",
       "              (query): Linear(in_features=768, out_features=768, bias=True)\n",
       "              (key): Linear(in_features=768, out_features=768, bias=True)\n",
       "              (value): Linear(in_features=768, out_features=768, bias=True)\n",
       "              (dropout): Dropout(p=0.1, inplace=False)\n",
       "            )\n",
       "            (output): BertSelfOutput(\n",
       "              (dense): Linear(in_features=768, out_features=768, bias=True)\n",
       "              (LayerNorm): LayerNorm((768,), eps=1e-12, elementwise_affine=True)\n",
       "              (dropout): Dropout(p=0.1, inplace=False)\n",
       "            )\n",
       "          )\n",
       "          (intermediate): BertIntermediate(\n",
       "            (dense): Linear(in_features=768, out_features=3072, bias=True)\n",
       "            (intermediate_act_fn): GELUActivation()\n",
       "          )\n",
       "          (output): BertOutput(\n",
       "            (dense): Linear(in_features=3072, out_features=768, bias=True)\n",
       "            (LayerNorm): LayerNorm((768,), eps=1e-12, elementwise_affine=True)\n",
       "            (dropout): Dropout(p=0.1, inplace=False)\n",
       "          )\n",
       "        )\n",
       "      )\n",
       "    )\n",
       "    (pooler): BertPooler(\n",
       "      (dense): Linear(in_features=768, out_features=768, bias=True)\n",
       "      (activation): Tanh()\n",
       "    )\n",
       "  )\n",
       "  (dropout): Dropout(p=0.1, inplace=False)\n",
       "  (classifier): Linear(in_features=768, out_features=6, bias=True)\n",
       ")"
      ]
     },
     "execution_count": 31,
     "metadata": {},
     "output_type": "execute_result"
    }
   ],
   "source": [
    "from transformers import BertForSequenceClassification, AdamW\n",
    "\n",
    "model = BertForSequenceClassification.from_pretrained('bert-base-uncased', num_labels=len(label_encoder.classes_))\n",
    "\n",
    "# Move the model to GPU\n",
    "device = 'cuda' if torch.cuda.is_available() else 'cpu'\n",
    "model.to(device)"
   ]
  },
  {
   "cell_type": "code",
   "execution_count": 33,
   "id": "26369ef7-f6e1-4cd2-8e6b-182d1f9037c2",
   "metadata": {},
   "outputs": [],
   "source": [
    "from torch.utils.data import DataLoader, TensorDataset\n",
    "from torch.nn import CrossEntropyLoss\n",
    "from torch.optim import Adam\n",
    "\n",
    "train_labels = torch.tensor(train_labels, dtype=torch.long).to(device)\n",
    "\n",
    "train_dataset = TensorDataset(train_inputs['input_ids'], train_inputs['attention_mask'], train_labels)\n",
    "train_loader = DataLoader(train_dataset, batch_size=8, shuffle=True)\n",
    "\n",
    "optimizer = AdamW(model.parameters(), lr=2e-5)\n",
    "loss_fn = CrossEntropyLoss()\n",
    "\n",
    "for epoch in range(3):  # You may need to adjust the number of epochs\n",
    "    model.train()\n",
    "    for batch in train_loader:\n",
    "        inputs, attention_mask, labels = batch\n",
    "        inputs, attention_mask, labels = inputs.to(device), attention_mask.to(device), labels.to(device)\n",
    "\n",
    "        optimizer.zero_grad()\n",
    "        outputs = model(inputs, attention_mask=attention_mask, labels=labels)\n",
    "        loss = outputs.loss\n",
    "        loss.backward()\n",
    "        optimizer.step()\n"
   ]
  },
  {
   "cell_type": "code",
   "execution_count": 34,
   "id": "39b03594-b7d9-4be3-baf6-ca4e5092bed9",
   "metadata": {},
   "outputs": [
    {
     "name": "stdout",
     "output_type": "stream",
     "text": [
      "Accuracy: 0.835\n"
     ]
    }
   ],
   "source": [
    "model.eval()\n",
    "\n",
    "with torch.no_grad():\n",
    "    test_inputs = {key: val.to(device) for key, val in test_inputs.items()}\n",
    "    outputs = model(**test_inputs)\n",
    "    predictions = torch.argmax(outputs.logits, dim=1).cpu().numpy()\n",
    "\n",
    "# Evaluate accuracy or other metrics\n",
    "accuracy = (predictions == test_labels).mean()\n",
    "print(f\"Accuracy: {accuracy}\")\n"
   ]
  },
  {
   "cell_type": "code",
   "execution_count": null,
   "id": "0b7e1034-d2da-4f15-8723-ff0b20ae4328",
   "metadata": {},
   "outputs": [],
   "source": []
  }
 ],
 "metadata": {
  "kernelspec": {
   "display_name": "Python 3 (ipykernel)",
   "language": "python",
   "name": "python3"
  },
  "language_info": {
   "codemirror_mode": {
    "name": "ipython",
    "version": 3
   },
   "file_extension": ".py",
   "mimetype": "text/x-python",
   "name": "python",
   "nbconvert_exporter": "python",
   "pygments_lexer": "ipython3",
   "version": "3.9.18"
  }
 },
 "nbformat": 4,
 "nbformat_minor": 5
}
